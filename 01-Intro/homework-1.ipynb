{
 "cells": [
  {
   "cell_type": "code",
   "execution_count": 1,
   "id": "a59061e7",
   "metadata": {},
   "outputs": [],
   "source": [
    "import pandas as pd\n",
    "import seaborn as sns\n",
    "import matplotlib.pyplot as plt\n",
    "import sklearn\n",
    "from sklearn.feature_extraction import DictVectorizer\n",
    "from sklearn.linear_model import LinearRegression\n",
    "from sklearn.linear_model import Lasso\n",
    "import numpy as np\n",
    "import pickle\n",
    "from sklearn.metrics import mean_squared_error"
   ]
  },
  {
   "cell_type": "code",
   "execution_count": 2,
   "id": "7b233b1f",
   "metadata": {},
   "outputs": [],
   "source": [
    "jan_23 = 'https://d37ci6vzurychx.cloudfront.net/trip-data/yellow_tripdata_2023-01.parquet'\n",
    "feb_23 = 'https://d37ci6vzurychx.cloudfront.net/trip-data/yellow_tripdata_2023-02.parquet'"
   ]
  },
  {
   "cell_type": "markdown",
   "id": "4de76e1c",
   "metadata": {},
   "source": [
    "## Question 1"
   ]
  },
  {
   "cell_type": "markdown",
   "id": "b4448fa0",
   "metadata": {},
   "source": [
    "- Read the data for January. How many columns are there?"
   ]
  },
  {
   "cell_type": "code",
   "execution_count": 3,
   "id": "f229cc44",
   "metadata": {},
   "outputs": [
    {
     "name": "stdout",
     "output_type": "stream",
     "text": [
      "There are 19 columns in the january yellow data from 2023\n"
     ]
    }
   ],
   "source": [
    "df_01 = pd.read_parquet(jan_23)\n",
    "print(f\"There are {len(df_01.columns)} columns in the january yellow data from 2023\")"
   ]
  },
  {
   "cell_type": "code",
   "execution_count": 4,
   "id": "f41eb449",
   "metadata": {},
   "outputs": [],
   "source": [
    "df_02 = pd.read_parquet(feb_23)"
   ]
  },
  {
   "cell_type": "markdown",
   "id": "b2ef20f3",
   "metadata": {},
   "source": [
    "## Question 2"
   ]
  },
  {
   "cell_type": "markdown",
   "id": "be496056",
   "metadata": {},
   "source": [
    "- Compute the duration variable. It should contain the duration of a ride in minutes.\n",
    "\n",
    "- What's the standard deviation of the trips duration in January?"
   ]
  },
  {
   "cell_type": "code",
   "execution_count": 5,
   "id": "1e495052",
   "metadata": {},
   "outputs": [],
   "source": [
    "duration2 = df_02.tpep_dropoff_datetime - df_02.tpep_pickup_datetime\n",
    "df_02['duration'] = duration2\n",
    "df_02.duration = df_02.duration.apply( lambda td: td.total_seconds() / 60 )"
   ]
  },
  {
   "cell_type": "code",
   "execution_count": 6,
   "id": "19810e24",
   "metadata": {},
   "outputs": [],
   "source": [
    "duration1 = df_01.tpep_dropoff_datetime - df_01.tpep_pickup_datetime\n",
    "df_01['duration'] = duration1\n",
    "df_01.duration = df_01.duration.apply( lambda td: td.total_seconds() / 60 )"
   ]
  },
  {
   "cell_type": "code",
   "execution_count": 7,
   "id": "51fa12db",
   "metadata": {},
   "outputs": [
    {
     "name": "stdout",
     "output_type": "stream",
     "text": [
      "The standard deviation of the trips duration in january is 42.59.\n"
     ]
    }
   ],
   "source": [
    "print(f\"The standard deviation of the trips duration in january is {np.round(df_01.duration.std(),2)}.\")"
   ]
  },
  {
   "cell_type": "markdown",
   "id": "3e2ebca7",
   "metadata": {},
   "source": [
    "## Question 3"
   ]
  },
  {
   "cell_type": "markdown",
   "id": "34b0c627",
   "metadata": {},
   "source": [
    "- What fraction of the records left after you dropped the outliers?"
   ]
  },
  {
   "cell_type": "markdown",
   "id": "d4aec8b7",
   "metadata": {},
   "source": [
    "I decide to also delete trips thata re too fast or too slow. For that I should calculate the mean speed of eahc trip."
   ]
  },
  {
   "cell_type": "markdown",
   "id": "08891658",
   "metadata": {},
   "source": [
    "$$ v = distance/duration$$"
   ]
  },
  {
   "cell_type": "code",
   "execution_count": 8,
   "id": "1088f6b5",
   "metadata": {},
   "outputs": [],
   "source": [
    "df_01['speed_mph'] = df_01['trip_distance'] / (df_01['duration'] / 60)  # Convert minutes to hours\n",
    "#df_01.drop(columns=['speed_mpm'], inplace=True)  # Drop 'speed_mpm' if it exists\n",
    "\n",
    "df_02['speed_mph'] = df_02['trip_distance'] / (df_02['duration'] / 60)  # Convert minutes to hours\n",
    "#df_02.drop(columns=['speed_mpm'], inplace=True)  # Drop 'speed_mpm' if it exists\n"
   ]
  },
  {
   "cell_type": "code",
   "execution_count": 9,
   "id": "1a979c8b",
   "metadata": {},
   "outputs": [],
   "source": [
    "# manually \n",
    "df1 = df_01[(df_01.duration > 1) & (df_01.duration < 100) & (df_01.trip_distance != 0) & \n",
    "            (df_01.trip_distance < 50) & (df_01.speed_mph > 1) & (df_01.speed_mph < 240)]\n",
    "\n",
    "df2 = df_02[(df_02.duration > 1) & (df_02.duration < 100) & (df_02.trip_distance != 0) & \n",
    "            (df_02.trip_distance < 50) & (df_02.speed_mph > 1) & (df_02.speed_mph < 240)]"
   ]
  },
  {
   "cell_type": "code",
   "execution_count": 10,
   "id": "e6f53ca7",
   "metadata": {},
   "outputs": [
    {
     "name": "stdout",
     "output_type": "stream",
     "text": [
      " The fraction remaining after outliers removal is 98.0% for january data \n",
      " and 98.0% for february data\n"
     ]
    }
   ],
   "source": [
    "print( f\" The fraction remaining after outliers removal is {np.round((len(df1) / len(df_01)) * 100 , 1)}% for january data \\n and {np.round((len(df2) /len(df_02))*100 , 1)}% for february data\")"
   ]
  },
  {
   "cell_type": "markdown",
   "id": "8470b25d",
   "metadata": {},
   "source": [
    "## Question 4"
   ]
  },
  {
   "cell_type": "markdown",
   "id": "c04b8430",
   "metadata": {},
   "source": [
    "- One-hot encoding"
   ]
  },
  {
   "cell_type": "code",
   "execution_count": 11,
   "id": "1b354bb3",
   "metadata": {},
   "outputs": [
    {
     "data": {
      "text/html": [
       "<div>\n",
       "<style scoped>\n",
       "    .dataframe tbody tr th:only-of-type {\n",
       "        vertical-align: middle;\n",
       "    }\n",
       "\n",
       "    .dataframe tbody tr th {\n",
       "        vertical-align: top;\n",
       "    }\n",
       "\n",
       "    .dataframe thead th {\n",
       "        text-align: right;\n",
       "    }\n",
       "</style>\n",
       "<table border=\"1\" class=\"dataframe\">\n",
       "  <thead>\n",
       "    <tr style=\"text-align: right;\">\n",
       "      <th></th>\n",
       "      <th>VendorID</th>\n",
       "      <th>tpep_pickup_datetime</th>\n",
       "      <th>tpep_dropoff_datetime</th>\n",
       "      <th>passenger_count</th>\n",
       "      <th>trip_distance</th>\n",
       "      <th>RatecodeID</th>\n",
       "      <th>store_and_fwd_flag</th>\n",
       "      <th>PULocationID</th>\n",
       "      <th>DOLocationID</th>\n",
       "      <th>payment_type</th>\n",
       "      <th>...</th>\n",
       "      <th>extra</th>\n",
       "      <th>mta_tax</th>\n",
       "      <th>tip_amount</th>\n",
       "      <th>tolls_amount</th>\n",
       "      <th>improvement_surcharge</th>\n",
       "      <th>total_amount</th>\n",
       "      <th>congestion_surcharge</th>\n",
       "      <th>airport_fee</th>\n",
       "      <th>duration</th>\n",
       "      <th>speed_mph</th>\n",
       "    </tr>\n",
       "  </thead>\n",
       "  <tbody>\n",
       "    <tr>\n",
       "      <th>0</th>\n",
       "      <td>2</td>\n",
       "      <td>2023-01-01 00:32:10</td>\n",
       "      <td>2023-01-01 00:40:36</td>\n",
       "      <td>1.0</td>\n",
       "      <td>0.97</td>\n",
       "      <td>1.0</td>\n",
       "      <td>N</td>\n",
       "      <td>161</td>\n",
       "      <td>141</td>\n",
       "      <td>2</td>\n",
       "      <td>...</td>\n",
       "      <td>1.00</td>\n",
       "      <td>0.5</td>\n",
       "      <td>0.00</td>\n",
       "      <td>0.0</td>\n",
       "      <td>1.0</td>\n",
       "      <td>14.30</td>\n",
       "      <td>2.5</td>\n",
       "      <td>0.00</td>\n",
       "      <td>8.433333</td>\n",
       "      <td>6.901186</td>\n",
       "    </tr>\n",
       "    <tr>\n",
       "      <th>1</th>\n",
       "      <td>2</td>\n",
       "      <td>2023-01-01 00:55:08</td>\n",
       "      <td>2023-01-01 01:01:27</td>\n",
       "      <td>1.0</td>\n",
       "      <td>1.10</td>\n",
       "      <td>1.0</td>\n",
       "      <td>N</td>\n",
       "      <td>43</td>\n",
       "      <td>237</td>\n",
       "      <td>1</td>\n",
       "      <td>...</td>\n",
       "      <td>1.00</td>\n",
       "      <td>0.5</td>\n",
       "      <td>4.00</td>\n",
       "      <td>0.0</td>\n",
       "      <td>1.0</td>\n",
       "      <td>16.90</td>\n",
       "      <td>2.5</td>\n",
       "      <td>0.00</td>\n",
       "      <td>6.316667</td>\n",
       "      <td>10.448549</td>\n",
       "    </tr>\n",
       "    <tr>\n",
       "      <th>2</th>\n",
       "      <td>2</td>\n",
       "      <td>2023-01-01 00:25:04</td>\n",
       "      <td>2023-01-01 00:37:49</td>\n",
       "      <td>1.0</td>\n",
       "      <td>2.51</td>\n",
       "      <td>1.0</td>\n",
       "      <td>N</td>\n",
       "      <td>48</td>\n",
       "      <td>238</td>\n",
       "      <td>1</td>\n",
       "      <td>...</td>\n",
       "      <td>1.00</td>\n",
       "      <td>0.5</td>\n",
       "      <td>15.00</td>\n",
       "      <td>0.0</td>\n",
       "      <td>1.0</td>\n",
       "      <td>34.90</td>\n",
       "      <td>2.5</td>\n",
       "      <td>0.00</td>\n",
       "      <td>12.750000</td>\n",
       "      <td>11.811765</td>\n",
       "    </tr>\n",
       "    <tr>\n",
       "      <th>3</th>\n",
       "      <td>1</td>\n",
       "      <td>2023-01-01 00:03:48</td>\n",
       "      <td>2023-01-01 00:13:25</td>\n",
       "      <td>0.0</td>\n",
       "      <td>1.90</td>\n",
       "      <td>1.0</td>\n",
       "      <td>N</td>\n",
       "      <td>138</td>\n",
       "      <td>7</td>\n",
       "      <td>1</td>\n",
       "      <td>...</td>\n",
       "      <td>7.25</td>\n",
       "      <td>0.5</td>\n",
       "      <td>0.00</td>\n",
       "      <td>0.0</td>\n",
       "      <td>1.0</td>\n",
       "      <td>20.85</td>\n",
       "      <td>0.0</td>\n",
       "      <td>1.25</td>\n",
       "      <td>9.616667</td>\n",
       "      <td>11.854419</td>\n",
       "    </tr>\n",
       "    <tr>\n",
       "      <th>4</th>\n",
       "      <td>2</td>\n",
       "      <td>2023-01-01 00:10:29</td>\n",
       "      <td>2023-01-01 00:21:19</td>\n",
       "      <td>1.0</td>\n",
       "      <td>1.43</td>\n",
       "      <td>1.0</td>\n",
       "      <td>N</td>\n",
       "      <td>107</td>\n",
       "      <td>79</td>\n",
       "      <td>1</td>\n",
       "      <td>...</td>\n",
       "      <td>1.00</td>\n",
       "      <td>0.5</td>\n",
       "      <td>3.28</td>\n",
       "      <td>0.0</td>\n",
       "      <td>1.0</td>\n",
       "      <td>19.68</td>\n",
       "      <td>2.5</td>\n",
       "      <td>0.00</td>\n",
       "      <td>10.833333</td>\n",
       "      <td>7.920000</td>\n",
       "    </tr>\n",
       "  </tbody>\n",
       "</table>\n",
       "<p>5 rows × 21 columns</p>\n",
       "</div>"
      ],
      "text/plain": [
       "   VendorID tpep_pickup_datetime tpep_dropoff_datetime  passenger_count  \\\n",
       "0         2  2023-01-01 00:32:10   2023-01-01 00:40:36              1.0   \n",
       "1         2  2023-01-01 00:55:08   2023-01-01 01:01:27              1.0   \n",
       "2         2  2023-01-01 00:25:04   2023-01-01 00:37:49              1.0   \n",
       "3         1  2023-01-01 00:03:48   2023-01-01 00:13:25              0.0   \n",
       "4         2  2023-01-01 00:10:29   2023-01-01 00:21:19              1.0   \n",
       "\n",
       "   trip_distance  RatecodeID store_and_fwd_flag  PULocationID  DOLocationID  \\\n",
       "0           0.97         1.0                  N           161           141   \n",
       "1           1.10         1.0                  N            43           237   \n",
       "2           2.51         1.0                  N            48           238   \n",
       "3           1.90         1.0                  N           138             7   \n",
       "4           1.43         1.0                  N           107            79   \n",
       "\n",
       "   payment_type  ...  extra  mta_tax  tip_amount  tolls_amount  \\\n",
       "0             2  ...   1.00      0.5        0.00           0.0   \n",
       "1             1  ...   1.00      0.5        4.00           0.0   \n",
       "2             1  ...   1.00      0.5       15.00           0.0   \n",
       "3             1  ...   7.25      0.5        0.00           0.0   \n",
       "4             1  ...   1.00      0.5        3.28           0.0   \n",
       "\n",
       "   improvement_surcharge  total_amount  congestion_surcharge  airport_fee  \\\n",
       "0                    1.0         14.30                   2.5         0.00   \n",
       "1                    1.0         16.90                   2.5         0.00   \n",
       "2                    1.0         34.90                   2.5         0.00   \n",
       "3                    1.0         20.85                   0.0         1.25   \n",
       "4                    1.0         19.68                   2.5         0.00   \n",
       "\n",
       "    duration  speed_mph  \n",
       "0   8.433333   6.901186  \n",
       "1   6.316667  10.448549  \n",
       "2  12.750000  11.811765  \n",
       "3   9.616667  11.854419  \n",
       "4  10.833333   7.920000  \n",
       "\n",
       "[5 rows x 21 columns]"
      ]
     },
     "execution_count": 11,
     "metadata": {},
     "output_type": "execute_result"
    }
   ],
   "source": [
    "df1.head()"
   ]
  },
  {
   "cell_type": "code",
   "execution_count": 14,
   "id": "058a79e6",
   "metadata": {},
   "outputs": [],
   "source": [
    "# variables\n",
    "categorical = ['PULocationID', 'DOLocationID']\n",
    "numerical = ['trip_distance', 'fare_amount', 'total_amount', 'speed_mph']\n",
    "\n",
    "df1[categorical] = df_01[categorical].astype(str)\n",
    "df2[categorical] = df_02[categorical].astype(str)\n",
    "\n",
    "train_dic = df1[categorical].to_dict(orient='records')\n",
    "val_dic = df2[categorical].to_dict(orient='records')"
   ]
  },
  {
   "cell_type": "code",
   "execution_count": 16,
   "id": "bc594cda",
   "metadata": {},
   "outputs": [],
   "source": [
    "dv = DictVectorizer()\n",
    "\n",
    "X_train = dv.fit_transform(train_dic)\n",
    "X_val = dv.transform(val_dic)"
   ]
  },
  {
   "cell_type": "code",
   "execution_count": 17,
   "id": "58722ad2",
   "metadata": {},
   "outputs": [],
   "source": [
    "target = 'duration'\n",
    "y_train = df1[target].values\n",
    "y_val = df2[target].values"
   ]
  },
  {
   "cell_type": "code",
   "execution_count": 25,
   "id": "cf384dee",
   "metadata": {},
   "outputs": [
    {
     "name": "stdout",
     "output_type": "stream",
     "text": [
      " Number of columns is 515 for the train matrix\n"
     ]
    }
   ],
   "source": [
    "print(f\" Number of columns is {X_train.shape[1]} for the train matrix\")"
   ]
  },
  {
   "cell_type": "markdown",
   "id": "276cd2d7",
   "metadata": {},
   "source": [
    "## Question 5"
   ]
  },
  {
   "cell_type": "markdown",
   "id": "dab20fbf",
   "metadata": {},
   "source": [
    "- Train a plain linear regression model with default parameters, where duration is the response variable\n",
    "- Calculate the RMSE of the model on the training data\n"
   ]
  },
  {
   "cell_type": "code",
   "execution_count": 28,
   "id": "7e6b50b2",
   "metadata": {},
   "outputs": [
    {
     "data": {
      "text/plain": [
       "LinearRegression()"
      ]
     },
     "execution_count": 28,
     "metadata": {},
     "output_type": "execute_result"
    }
   ],
   "source": [
    "lr = LinearRegression()\n",
    "lr.fit(X_train, y_train)"
   ]
  },
  {
   "cell_type": "code",
   "execution_count": 32,
   "id": "c34b4b50",
   "metadata": {},
   "outputs": [
    {
     "name": "stdout",
     "output_type": "stream",
     "text": [
      "8.213280797333441\n"
     ]
    }
   ],
   "source": [
    "y_pred_train = lr.predict(X_train)\n",
    "\n",
    "mse_t = mean_squared_error(y_train, y_pred_train, squared=False)\n",
    "print(mse_t)"
   ]
  },
  {
   "cell_type": "markdown",
   "id": "8f2bb5df",
   "metadata": {},
   "source": [
    "## Question 6"
   ]
  },
  {
   "cell_type": "code",
   "execution_count": 33,
   "id": "344a664c",
   "metadata": {},
   "outputs": [
    {
     "name": "stdout",
     "output_type": "stream",
     "text": [
      "8.470760815750761\n"
     ]
    }
   ],
   "source": [
    "y_pred_val = lr.predict(X_val)\n",
    "mse_v = mean_squared_error(y_val, y_pred_val, squared=False)\n",
    "print(mse_v)"
   ]
  }
 ],
 "metadata": {
  "kernelspec": {
   "display_name": "Python 3 (ipykernel)",
   "language": "python",
   "name": "python3"
  },
  "language_info": {
   "codemirror_mode": {
    "name": "ipython",
    "version": 3
   },
   "file_extension": ".py",
   "mimetype": "text/x-python",
   "name": "python",
   "nbconvert_exporter": "python",
   "pygments_lexer": "ipython3",
   "version": "3.9.12"
  }
 },
 "nbformat": 4,
 "nbformat_minor": 5
}
